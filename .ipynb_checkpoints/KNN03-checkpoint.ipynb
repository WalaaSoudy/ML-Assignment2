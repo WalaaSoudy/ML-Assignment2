{
 "cells": [
  {
   "cell_type": "code",
   "execution_count": 4,
   "id": "bbf1fc27-ce3b-434e-b64d-3a501be1c14f",
   "metadata": {
    "id": "bbf1fc27-ce3b-434e-b64d-3a501be1c14f"
   },
   "outputs": [],
   "source": [
    "import pandas as pd\n",
    "import numpy as np\n",
    "from sklearn.model_selection import train_test_split"
   ]
  },
  {
   "cell_type": "code",
   "execution_count": 5,
   "id": "4ccf17db-c24a-4afa-9ba3-c3198f44c3d3",
   "metadata": {
    "id": "4ccf17db-c24a-4afa-9ba3-c3198f44c3d3"
   },
   "outputs": [],
   "source": [
    "class ModelKNN():\n",
    "    def __init__(self):\n",
    "        self.distances = []\n",
    "        self.final_label = []\n",
    "\n",
    "    def euclidean_distance(self, test_vector, train_feature_vectors, train_labels):\n",
    "        for i in range(len(train_feature_vectors)):\n",
    "            train_vector = train_feature_vectors[i]\n",
    "            distance = np.sqrt(np.sum((test_vector - train_vector)**2))\n",
    "            self.distances.append([distance, train_labels[i]]) #distance\n",
    "        self.distances = sorted(self.distances, key=lambda x: (x[0],))\n",
    "\n",
    "    def get_k_nearest_neighbours(self, k):\n",
    "        labels = []\n",
    "        for i in range(k):\n",
    "            labels.append(self.distances[i][1])  # get only classes\n",
    "        return labels\n",
    "\n",
    "    def get_nearest_neighbor(self, k, train_labels):\n",
    "        labels = self.get_k_nearest_neighbours(k)\n",
    "        freq = [0] * 2  # holds [number of class 0, number of class 1] in the nearest k neighbours\n",
    "\n",
    "        weights = [1 / (d[0] + 1e-6) for d in self.distances[:k]]\n",
    "\n",
    "        for i in range(len(labels)):\n",
    "            if labels[i] == 0:\n",
    "                freq[0] += weights[i]\n",
    "            else:\n",
    "                freq[1] += weights[i]\n",
    "\n",
    "        if freq[0] == freq[1]:\n",
    "            return train_labels[0]\n",
    "        return max(set(labels), key=labels.count)\n",
    "\n",
    "    def classifier(self, k, train_features, test_features, train_labels):\n",
    "        for test in test_features:\n",
    "            self.distances = []\n",
    "            self.euclidean_distance(test, train_features, train_labels)\n",
    "            self.final_label.append(self.get_nearest_neighbor(k, train_labels))\n",
    "        return self.final_label\n",
    "\n",
    "    def MinMaxNormlization(self, feature):\n",
    "        # Min-Max Scaling\n",
    "        min_val = np.min(feature)\n",
    "        max_val = np.max(feature)\n",
    "        scaled = (feature - min_val) / (max_val - min_val)#(x-min)/(max-min)\n",
    "        return scaled\n",
    "\n",
    "    def loadD(self, data):\n",
    "        X = np.delete(data,8,axis=1)#all data but not the last column\n",
    "        Y = [] #the last column\n",
    "        for i in range(len(data)):\n",
    "            Y.append(data[i][8])\n",
    "        #shuffling data important to ensure training and testing sets are representative of data.\n",
    "        train_data, test_data, train_labels, test_labels = train_test_split(X, Y, test_size=0.3, shuffle=True)\n",
    "\n",
    "        for i in range(8):#terates over the range from 0 to 7 the(number of features)\n",
    "            train_data[:, [i]] = self.MinMaxNormlization(train_data[:, [i]])\n",
    "            test_data[:, [i]] = self.MinMaxNormlization(test_data[:, [i]])\n",
    "\n",
    "        return train_data, test_data, train_labels, test_labels\n"
   ]
  },
  {
   "cell_type": "code",
   "execution_count": null,
   "id": "e441a39c-cbda-485a-a7fc-8a57a0982b58",
   "metadata": {
    "colab": {
     "base_uri": "https://localhost:8080/"
    },
    "id": "e441a39c-cbda-485a-a7fc-8a57a0982b58",
    "outputId": "91a36c28-803a-4ce7-858e-2121b31be579"
   },
   "outputs": [
    {
     "name": "stdout",
     "output_type": "stream",
     "text": [
      "K =  2\n",
      "Number of correctly classified instances : 160\n",
      "Total number of instances :  231\n",
      "Accuracy:  69.26406926406928 %\n",
      "K =  3\n",
      "Number of correctly classified instances : 160\n",
      "Total number of instances :  231\n",
      "Accuracy:  69.26406926406928 %\n",
      "K =  4\n",
      "Number of correctly classified instances : 160\n",
      "Total number of instances :  231\n",
      "Accuracy:  69.26406926406928 %\n",
      "K =  5\n",
      "Number of correctly classified instances : 160\n",
      "Total number of instances :  231\n",
      "Accuracy:  69.26406926406928 %\n"
     ]
    }
   ],
   "source": [
    "if __name__ == \"__main__\":\n",
    "\n",
    "    data = pd.read_csv('diabetes.csv')\n",
    "\n",
    "    Model = ModelKNN()\n",
    "    train_data, test_data, train_labels, test_labels = Model.loadD(data.values)\n",
    "\n",
    "    k_values = [2, 3, 4, 5, 6]\n",
    "\n",
    "    # Perform multiple iterations of k on the dataset\n",
    "    num_iterations = 5  # Number of iterations for each k value\n",
    "    for k in k_values:\n",
    "        KNN_Predictions=ModelKNN.classifier(Model,k,train_data, test_data, train_labels)\n",
    "\n",
    "        wrong_classifier =0\n",
    "        for i in range(len(test_labels)):\n",
    "            if KNN_Predictions[i] != test_labels[i]:\n",
    "                wrong_classifier+=1\n",
    "\n",
    "        print(\"K = \",k)\n",
    "        print(\"Number of correctly classified instances :\",len(test_labels) - wrong_classifier)\n",
    "        print(\"Total number of instances : \",len(test_labels))\n",
    "        accuracy = (1-(wrong_classifier/len(test_labels)))*100\n",
    "        print(\"Accuracy: \", accuracy , \"%\")"
   ]
  },
  {
   "cell_type": "code",
   "execution_count": null,
   "id": "836fbea4-a5be-4ed2-bd89-3f95c8de970a",
   "metadata": {
    "id": "836fbea4-a5be-4ed2-bd89-3f95c8de970a"
   },
   "outputs": [],
   "source": []
  }
 ],
 "metadata": {
  "colab": {
   "provenance": []
  },
  "kernelspec": {
   "display_name": "Python 3 (ipykernel)",
   "language": "python",
   "name": "python3"
  },
  "language_info": {
   "codemirror_mode": {
    "name": "ipython",
    "version": 3
   },
   "file_extension": ".py",
   "mimetype": "text/x-python",
   "name": "python",
   "nbconvert_exporter": "python",
   "pygments_lexer": "ipython3",
   "version": "3.11.4"
  }
 },
 "nbformat": 4,
 "nbformat_minor": 5
}
